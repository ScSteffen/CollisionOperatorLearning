{
 "cells": [
  {
   "cell_type": "code",
   "execution_count": 1,
   "id": "d64b5142",
   "metadata": {},
   "outputs": [],
   "source": [
    "import numpy as np\n",
    "import matplotlib.pyplot as plt\n",
    "from src.collision_operator_HG_1D import CollisionOperatorHG1D\n",
    "from model.deeponet import *\n",
    "import torch"
   ]
  },
  {
   "cell_type": "code",
   "execution_count": 2,
   "id": "e5d78b10",
   "metadata": {},
   "outputs": [
    {
     "name": "stdout",
     "output_type": "stream",
     "text": [
      "Is available to use cuda? :  True\n",
      "-> GPU number  3\n"
     ]
    }
   ],
   "source": [
    "gpu_id='3'\n",
    "import os\n",
    "os.environ['CUDA_VISIBLE_DEVICES'] = gpu_id\n",
    "\n",
    "use_cuda = torch.cuda.is_available()\n",
    "print(\"Is available to use cuda? : \",use_cuda)\n",
    "if use_cuda:\n",
    "    print(\"-> GPU number \",gpu_id)"
   ]
  },
  {
   "cell_type": "code",
   "execution_count": 3,
   "id": "65b5ff07",
   "metadata": {},
   "outputs": [],
   "source": [
    "L = 10.0  # Length of the 1D domain\n",
    "n_x = 100  # Number of spatial grid points\n",
    "dx = L / n_x  # Spatial grid size\n",
    "sigma_t = 1.0  # Total cross-section\n",
    "sigma_s = 0.5  # Scattering cross-section\n",
    "source = np.zeros(n_x)  # Source term\n",
    "\n",
    "# Angular discretization (Discrete Ordinates)\n",
    "n_q = 100  # Number of discrete angles\n",
    "Q = CollisionOperatorHG1D(integrator_order=n_q, anisotropy_param=0.0)\n",
    "omega = Q.get_quad_pts()\n",
    "w_q = Q.get_quad_weights()\n",
    "# Initialize angular flux and boundary conditions\n",
    "f_init = np.zeros((n_q, n_x))\n",
    "f_init[:, 0] = 1.0  # Left boundary (Dirichlet boundary condition)\n",
    "f_init[:, - 1] = 0.0  # Right boundary (Dirichlet boundary condition)\n",
    "\n",
    "# Define the time step and number of time steps\n",
    "dt = 0.4 * dx  # obeys cfl\n",
    "n_t = 100"
   ]
  },
  {
   "cell_type": "code",
   "execution_count": 4,
   "id": "3a9631d0",
   "metadata": {},
   "outputs": [],
   "source": [
    "gparams = {\n",
    "     'name': '3_8_3_8_wo_bias',\n",
    "     'seed': 0,\n",
    "     'use_squeue': False,\n",
    "     'gpu': 0,\n",
    "     'dimension': 1,\n",
    "     'data_file': 'legendre',\n",
    "     'integration_order': 100,\n",
    "     'model': 'deeponet',\n",
    "     'branch_hidden': [100, 8, 8, 8],\n",
    "     'trunk_hidden': [1, 8, 8, 8],\n",
    "     'act': 'tanh',\n",
    "     'd_out': 1,\n",
    "     'use_bias': 'no',\n",
    "     'use_gram': False,\n",
    "     'batch_size': 0,\n",
    "     'epochs': 100000,\n",
    "     'lr': 0.001,\n",
    "     'lambda': 0.0\n",
    "}\n",
    "names=[\n",
    "    'wo_bias',\n",
    "    'w_bias',\n",
    "    'soft_lamb01',\n",
    "    'hard_gram',\n",
    "    'hard_special',\n",
    "]\n",
    "list_filename=[\n",
    "    '1D/toy/3_8_3_8_wo_bias',\n",
    "    '1D/toy/3_8_3_8_w_bias',\n",
    "    '1D/toy/3_8_3_8_soft_lamb01',\n",
    "    '1D/toy/3_8_3_8_hard_gram',\n",
    "    '1D/toy/3_8_3_8_hard_special'\n",
    "]\n",
    "\n",
    "## guad pts and weights\n",
    "integration_order=gparams['integration_order']\n",
    "if gparams['dimension']==1:\n",
    "    grid = torch.FloatTensor(Q.get_quad_pts()).reshape(-1,1).cpu()\n",
    "    quad_w = torch.FloatTensor(Q.get_quad_weights()).cpu()\n",
    "    size_domain=2"
   ]
  },
  {
   "cell_type": "code",
   "execution_count": 5,
   "id": "9f663788",
   "metadata": {},
   "outputs": [],
   "source": [
    "### Model\n",
    "models=[]\n",
    "n_basiss=[]\n",
    "for idx_model, model in enumerate(list_filename):\n",
    "    args=torch.load('results/'+list_filename[idx_model]+'/args.bin')\n",
    "    gparams = args.__dict__\n",
    "    branch_hidden=gparams['branch_hidden']\n",
    "    trunk_hidden=gparams['trunk_hidden']\n",
    "    act=gparams['act']\n",
    "    output_d_out=gparams['d_out']\n",
    "    if gparams['use_bias']=='no':\n",
    "        use_bias=False\n",
    "    else:\n",
    "        use_bias=gparams['use_bias']    \n",
    "    if gparams['use_bias']=='no' and gparams['use_gram']==False:\n",
    "        n_basis=trunk_hidden[-1]\n",
    "    else:\n",
    "        n_basis=trunk_hidden[-1]+1\n",
    "    use_gram=gparams['use_gram']\n",
    "    ## We want a cpu model\n",
    "    if gparams['model']=='deeponet':\n",
    "        DeepONet=deeponet(branch_hidden, trunk_hidden, act, output_d_out, use_bias, use_gram, quad_w, size_domain).cpu()\n",
    "        save_model=torch.load('results/'+model+'/final.bin')\n",
    "        DeepONet.load_state_dict(save_model['state_dict'])\n",
    "    models.append(DeepONet) \n",
    "    n_basiss.append(n_basis)"
   ]
  },
  {
   "cell_type": "code",
   "execution_count": 6,
   "id": "14360d10",
   "metadata": {},
   "outputs": [],
   "source": [
    "def get_upwind_flux(i, omega_q, f_q):\n",
    "    if omega_q >= 0:\n",
    "        return omega_q * f_q[i - 1]\n",
    "    return omega_q * f_q[i]"
   ]
  },
  {
   "cell_type": "code",
   "execution_count": 7,
   "id": "925aa758",
   "metadata": {},
   "outputs": [],
   "source": [
    "def run_simulation(f_init, n_x, n_q, n_t, dt, dx, sigma_s, sigma_t, source, omega, model, grid):\n",
    "    f_kin = np.copy(f_init)\n",
    "    fluxes = np.zeros(shape=(n_q, n_x))\n",
    "    # Perform time-stepping\n",
    "    for k in range(n_t - 1):\n",
    "        for i in range(1, n_x - 1):\n",
    "            for q in range(n_q):\n",
    "                fluxes[q, i] = get_upwind_flux(i, omega[q], f_kin[q, :])\n",
    "        for i in range(1, n_x - 1):\n",
    "            _f = torch.FloatTensor(f_kin[:, i].reshape(1, 1,-1))\n",
    "            collision = model(_f, grid).squeeze().detach().numpy()\n",
    "\n",
    "            for q in range(n_q):\n",
    "                # Calculate streaming term\n",
    "\n",
    "                # Update angular flux using finite difference method\n",
    "                f_kin[q, i] = f_kin[q, i] - dt / dx * (\n",
    "                        fluxes[q, i + 1] - fluxes[q, i]) + dt * collision[q] + dt * source[i]\n",
    "\n",
    "    return f_kin"
   ]
  },
  {
   "cell_type": "code",
   "execution_count": 8,
   "id": "e3211914",
   "metadata": {},
   "outputs": [],
   "source": [
    "f_tN = run_simulation(f_init, n_x, n_q, n_t, dt, dx, sigma_s, sigma_t, source, omega, models[1], grid)"
   ]
  },
  {
   "cell_type": "code",
   "execution_count": 9,
   "id": "51eef0b3",
   "metadata": {},
   "outputs": [
    {
     "data": {
      "image/png": "[encoded data removed]",
      "text/plain": [
       "<Figure size 432x288 with 1 Axes>"
      ]
     },
     "metadata": {
      "needs_background": "light"
     },
     "output_type": "display_data"
    }
   ],
   "source": [
    "f_res_tn = w_q @ f_tN / 2.\n",
    "f_res_t0 = w_q @ f_init / 2.\n",
    "# Plot the angular flux for one angle (e.g., the first angle)\n",
    "plt.plot(np.linspace(0, L, n_x), f_res_t0)\n",
    "plt.plot(np.linspace(0, L, n_x), f_res_tn)\n",
    "plt.xlabel('Position (cm)')\n",
    "plt.ylabel('Angular Flux')\n",
    "plt.title('1D Discrete Ordinates with Dirichlet Boundary Conditions')\n",
    "plt.legend(['t0', 'tN'])\n",
    "plt.grid(True)\n",
    "plt.show()"
   ]
  }
 ],
 "metadata": {
  "kernelspec": {
   "display_name": "operator",
   "language": "python",
   "name": "operator"
  },
  "language_info": {
   "codemirror_mode": {
    "name": "ipython",
    "version": 3
   },
   "file_extension": ".py",
   "mimetype": "text/x-python",
   "name": "python",
   "nbconvert_exporter": "python",
   "pygments_lexer": "ipython3",
   "version": "3.9.12"
  }
 },
 "nbformat": 4,
 "nbformat_minor": 5
}
